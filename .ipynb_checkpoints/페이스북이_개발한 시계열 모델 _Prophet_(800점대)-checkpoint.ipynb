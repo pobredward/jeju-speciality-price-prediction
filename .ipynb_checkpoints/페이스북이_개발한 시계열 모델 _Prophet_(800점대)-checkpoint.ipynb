{
 "cells": [
  {
   "cell_type": "code",
   "execution_count": 1,
   "metadata": {},
   "outputs": [],
   "source": [
    "import pandas as pd\n",
    "import numpy as np\n",
    "import matplotlib.pyplot as plt\n",
    "import seaborn as sns"
   ]
  },
  {
   "cell_type": "code",
   "execution_count": 2,
   "metadata": {},
   "outputs": [],
   "source": [
    "submission_df = pd.read_csv('sample_submission.csv')\n",
    "train = pd.read_csv('train.csv')\n",
    "test = pd.read_csv('test.csv')"
   ]
  },
  {
   "cell_type": "code",
   "execution_count": 3,
   "metadata": {},
   "outputs": [],
   "source": [
    "prophet_data = train.rename(columns={'timestamp': 'ds', 'price(원/kg)': 'y'})\n",
    "prophet_data = prophet_data[['ID', 'ds', 'y']]\n",
    "prophet_data['ID'] = prophet_data['ID'].str.replace(r'_\\d{8}$', '', regex=True)"
   ]
  },
  {
   "cell_type": "code",
   "execution_count": null,
   "metadata": {},
   "outputs": [],
   "source": [
    "from prophet import Prophet\n",
    "import numpy as np\n",
    "RANDOM_SEED = 990313\n",
    "np.random.seed(RANDOM_SEED)\n",
    "def ph_train(df):\n",
    "    pred_list = []  \n",
    "    for code in df['ID'].unique():\n",
    "        d = df[df['ID'] == code].reset_index().drop(['ID'], axis=1).sort_values('ds')\n",
    "        model = Prophet(growth = 'choose',\n",
    "                        seasonality_mode = 'choose',\n",
    "                        yearly_seasonality = 'choose',\n",
    "                        weekly_seasonality = 'choose',\n",
    "                        daily_seasonality = 'choose',\n",
    "                        holidays = 'choose',\n",
    "                        changepoint_prior_scale = 'choose'\n",
    "                       )\n",
    "        model.fit(d)\n",
    "        future = pd.DataFrame()\n",
    "        future['ds'] = pd.date_range(start='2023-03-04', periods=28, freq='D') \n",
    "        forecast = model.predict(future)        \n",
    "        pred_y = forecast['yhat'].values\n",
    "        pred_code = [str(code)] * len(pred_y)\n",
    "        for y_val, id_val in zip(pred_y, pred_code):\n",
    "            pred_list.append({'ID': id_val, 'y': y_val})\n",
    "    pred = pd.DataFrame(pred_list) \n",
    "    return pred\n",
    "pred = ph_train(prophet_data)\n",
    "submission_df['answer'] = pred['y']\n",
    "submission_df.to_csv('prophet.csv',index=False)"
   ]
  }
 ],
 "metadata": {
  "kernelspec": {
   "display_name": "Python 3",
   "language": "python",
   "name": "python3"
  },
  "language_info": {
   "codemirror_mode": {
    "name": "ipython",
    "version": 3
   },
   "file_extension": ".py",
   "mimetype": "text/x-python",
   "name": "python",
   "nbconvert_exporter": "python",
   "pygments_lexer": "ipython3",
   "version": "3.8.6"
  }
 },
 "nbformat": 4,
 "nbformat_minor": 2
}
