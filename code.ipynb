{
 "cells": [
  {
   "cell_type": "code",
   "execution_count": 1,
   "id": "f98ae731",
   "metadata": {},
   "outputs": [],
   "source": [
    "import pandas as pd\n",
    "import numpy as np\n",
    "from datetime import datetime, date, timedelta\n",
    "import calendar\n",
    "import lightgbm as lgb\n",
    "from lightgbm import LGBMRegressor\n",
    "from sklearn.model_selection import KFold\n",
    "from sklearn.metrics import mean_squared_error\n",
    "import optuna\n",
    "from optuna import Trial\n",
    "from optuna.samplers import TPESampler\n",
    "from optuna.visualization import plot_contour, plot_optimization_history\n",
    "from optuna.visualization import plot_parallel_coordinate, plot_slice, plot_param_importances\n",
    "import warnings\n",
    "warnings.filterwarnings('ignore')"
   ]
  },
  {
   "cell_type": "code",
   "execution_count": 2,
   "id": "ceb91c27",
   "metadata": {},
   "outputs": [],
   "source": [
    "num_seed_hp = 5\n",
    "splits_hp = 5\n",
    "seed_hp = 42\n",
    "basic_seed = 42\n",
    "num_trial = 20"
   ]
  },
  {
   "cell_type": "code",
   "execution_count": 3,
   "id": "db25874f",
   "metadata": {},
   "outputs": [],
   "source": [
    "train_df = pd.read_csv('data/train.csv')\n",
    "test_df = pd.read_csv('data/test.csv')\n",
    "international_trade_csv = pd.read_csv('data/international_trade.csv')\n",
    "sample_submission = pd.read_csv('data/sample_submission.csv')\n",
    "train_df = train_df.replace([np.inf, -np.inf, np.nan, -np.nan], 0)\n",
    "test_df = test_df.replace([np.inf, -np.inf, np.nan, -np.nan], 0)"
   ]
  },
  {
   "cell_type": "code",
   "execution_count": 4,
   "id": "1e4b7874",
   "metadata": {},
   "outputs": [],
   "source": [
    "dic_train = {}\n",
    "for idx, time in enumerate(train_df['timestamp'].unique()):\n",
    "    time = time.replace('-', '')\n",
    "    dic_train[time] = idx+1\n",
    "    \n",
    "dic_test = {}\n",
    "for idx, time in enumerate(test_df['timestamp'].unique()):\n",
    "    time = time.replace('-', '')\n",
    "    dic_test[time] = idx+1524"
   ]
  },
  {
   "cell_type": "code",
   "execution_count": 5,
   "id": "074b5796",
   "metadata": {},
   "outputs": [],
   "source": [
    "#시계열 특성을 학습에 반영하기 위해 timestamp를 월, 일, 시간으로 나눕니다\n",
    "train_df['year'] = train_df['timestamp'].apply(lambda x : int(x[0:4]))\n",
    "train_df['month'] = train_df['timestamp'].apply(lambda x : int(x[5:7]))\n",
    "train_df['day'] = train_df['timestamp'].apply(lambda x : int(x[8:10]))\n",
    "train_df['weekday'] = train_df['timestamp'].apply(lambda x : datetime.strptime(x, '%Y-%m-%d').weekday())\n",
    "train_df['prod_ID'] = train_df['ID'].apply(lambda x: x[0:6])\n",
    "train_df['d'] = train_df['ID'].apply(lambda x: f'd_{dic_train[x[7:]]}')\n",
    "# train_df.drop(['supply(kg)', 'timestamp'], axis=1, inplace=True)\n",
    "\n",
    "test_df['year'] = test_df['timestamp'].apply(lambda x : int(x[0:4]))\n",
    "test_df['month'] = test_df['timestamp'].apply(lambda x : int(x[5:7]))\n",
    "test_df['day'] = test_df['timestamp'].apply(lambda x : int(x[8:10]))\n",
    "test_df['weekday'] = test_df['timestamp'].apply(lambda x : datetime.strptime(x, '%Y-%m-%d').weekday())\n",
    "test_df['prod_ID'] = test_df['ID'].apply(lambda x: x[0:6])\n",
    "test_df['d'] = test_df['ID'].apply(lambda x: f'd_{dic_test[x[7:]]}')\n",
    "# test_df.drop(['timestamp'], axis=1, inplace=True)"
   ]
  },
  {
   "cell_type": "markdown",
   "id": "fed28d13",
   "metadata": {},
   "source": [
    "이동 평균"
   ]
  },
  {
   "cell_type": "code",
   "execution_count": 6,
   "id": "9e3b53db",
   "metadata": {},
   "outputs": [],
   "source": [
    "train_df.rename(columns={'price(원/kg)':'price', 'supply(kg)': 'supply'}, inplace=True)"
   ]
  },
  {
   "cell_type": "code",
   "execution_count": 7,
   "id": "db503802",
   "metadata": {},
   "outputs": [],
   "source": [
    "def get_moving_average(df):\n",
    "    for win in [1, 2, 4, 8]:\n",
    "        df['rm_diff_price_{}'.format(win)] = df[['item', 'corporation', 'location', 'price']].groupby(\n",
    "            ['item', 'corporation', 'location'])['price'].transform(lambda x : x.rolling(win).mean())\n",
    "        df['rm_diff_price_{}'.format(win)] = ((df['price'] - df['rm_diff_price_{}'.format(win)]\n",
    "                                                  )/df['price']).round(3)\n",
    "    return df\n",
    "train_df = get_moving_average(train_df)"
   ]
  },
  {
   "cell_type": "code",
   "execution_count": 8,
   "id": "b8cde064",
   "metadata": {},
   "outputs": [],
   "source": [
    "def lags_wins(df):\n",
    "    lags = [7, 14, 28]\n",
    "    lag_cols = [f\"lag_{lag}\" for lag in lags]\n",
    "    for lag, lag_col in zip(lags, lag_cols):\n",
    "        df[lag_col] = df[[\"prod_ID\",\"price\"]].groupby(\"prod_ID\")[\"price\"].shift(lag)\n",
    "\n",
    "    wins = [7, 14, 28]\n",
    "    for win in wins :\n",
    "        for lag,lag_col in zip(lags, lag_cols):\n",
    "            df[f\"rmean_{lag}_{win}\"] = df[[\"prod_ID\", lag_col]].groupby(\"prod_ID\")[lag_col].transform(lambda x : x.rolling(win).mean())\n",
    "    return df\n",
    "train_df = lags_wins(train_df)"
   ]
  },
  {
   "cell_type": "code",
   "execution_count": 27,
   "id": "03fd459e",
   "metadata": {},
   "outputs": [],
   "source": [
    "valid_df = train_df.copy()\n",
    "# for day in range(1496, 1524):\n",
    "#     valid_df.loc[valid_df['d']==f'd_{day}', ['price', 'rm_diff_price_1', 'rm_diff_price_2', 'rm_diff_price_4',\n",
    "#        'rm_diff_price_8', 'lag_7', 'lag_14', 'lag_28', 'rmean_7_7',\n",
    "#        'rmean_14_7', 'rmean_28_7', 'rmean_7_14', 'rmean_14_14', 'rmean_28_14',\n",
    "#        'rmean_7_28', 'rmean_14_28', 'rmean_28_28']] = 0"
   ]
  },
  {
   "cell_type": "code",
   "execution_count": 29,
   "id": "19e0feb9",
   "metadata": {},
   "outputs": [],
   "source": [
    "test_df['price'] = 0\n",
    "# test_df[['rm_diff_price_1', 'rm_diff_price_2', 'rm_diff_price_4',\n",
    "#        'rm_diff_price_8', 'lag_7', 'lag_14', 'lag_28', 'rmean_7_7',\n",
    "#        'rmean_14_7', 'rmean_28_7', 'rmean_7_14', 'rmean_14_14', 'rmean_28_14',\n",
    "#        'rmean_7_28', 'rmean_14_28', 'rmean_28_28']] = 0.0\n",
    "test_df = pd.concat([train_df, test_df])"
   ]
  },
  {
   "cell_type": "code",
   "execution_count": 30,
   "id": "a6af69fe",
   "metadata": {},
   "outputs": [
    {
     "name": "stdout",
     "output_type": "stream",
     "text": [
      "Category Encoding Completed\n"
     ]
    }
   ],
   "source": [
    "train_lab = train_df.copy()\n",
    "test_lab = test_df.copy()\n",
    "\n",
    "for col in train_lab.columns:\n",
    "    if train_lab[col].dtypes=='object' or train_lab[col].dtypes=='int64':\n",
    "        train_lab[col] = train_lab[col].astype('category')\n",
    "        test_lab[col] = test_lab[col].astype('category')\n",
    "\n",
    "train_df = train_lab.copy()\n",
    "test_df = test_lab.copy()\n",
    "\n",
    "print('Category Encoding Completed')"
   ]
  },
  {
   "cell_type": "code",
   "execution_count": 12,
   "id": "c7f9058f",
   "metadata": {},
   "outputs": [],
   "source": [
    "category_cols = ['item','corporation', 'location', 'year', 'month', 'day', 'weekday']\n",
    "useless_cols = ['ID', 'prod_ID', 'd', 'supply', 'timestamp', 'price']\n",
    "train_cols = train_df.columns[~train_df.columns.isin(useless_cols)]\n",
    "df = train_df.copy()\n",
    "days_train = ['d_'+str(c) for c in range(1, 1496)]\n",
    "days_val = ['d_'+str(c) for c in range(1496, 1524)]\n",
    "df = df.replace([np.inf, -np.inf, np.nan, -np.nan], 0)\n",
    "#df.iloc[:, -9:] = df.iloc[:, -9:].fillna(0.0)\n",
    "X_train = df[df['d'].isin(days_train)==True][train_cols]\n",
    "Y_train = df[df['d'].isin(days_train)==True][\"price\"]\n",
    "X_val_df = df[df['d'].isin(days_val)==True]\n",
    "X_val_df[\"timestamp\"] = pd.to_datetime(X_val_df[\"timestamp\"])\n",
    "X_val_dff = pd.DataFrame()\n",
    "for delta in range(0, 28):\n",
    "    day = datetime(2023, 2, 4) + timedelta(days=delta)\n",
    "    vl = X_val_df.loc[X_val_df.timestamp == day]\n",
    "    X_val_dff = pd.concat([X_val_dff, vl])\n",
    "\n",
    "X_val = X_val_dff[train_cols]\n",
    "y_val = X_val_dff[\"price\"]"
   ]
  },
  {
   "cell_type": "code",
   "execution_count": 13,
   "id": "d3770760",
   "metadata": {},
   "outputs": [],
   "source": [
    "def lgb_objective(trial: Trial) -> float:\n",
    "    score_hp = []\n",
    "    for seed_hp in np.random.randint(0, 1000, num_seed_hp):\n",
    "        params_lgb = {\n",
    "            \"random_state\": seed_hp,\n",
    "            \"verbosity\": -1,\n",
    "            \"n_estimators\": 10000,\n",
    "            \"learning_rate\": trial.suggest_loguniform(\"learning_rate\", 1e-2, 1e-1), # default=0.1, range=[0,1]\n",
    "            \"max_depth\": trial.suggest_int(\"max_depth\", 4, 8), # default=-1\n",
    "            \"reg_alpha\": trial.suggest_loguniform(\"reg_alpha\", 1e-2, 1e+2), # default=0\n",
    "            \"reg_lambda\": trial.suggest_loguniform(\"reg_lambda\", 1e-2, 1e+2), # default=0\n",
    "            \"num_leaves\": trial.suggest_int(\"num_leaves\", 31, 5000), # default=31, range=(1,130172]\n",
    "            \"colsample_bytree\": trial.suggest_uniform(\"colsample_bytree\", 0.3, 1.0), # feature_fraction, default=1\n",
    "            \"subsample\": trial.suggest_uniform(\"subsample\", 0.3, 1.0), # bagging_fraction, default=1, range=[0,1]\n",
    "            \"subsample_freq\": trial.suggest_int(\"subsample_freq\", 1, 20), # bagging_freq, default=0\n",
    "            \"min_child_samples\": trial.suggest_int(\"min_child_samples\", 1, 40), # min_data_in_leaf, default=20 \n",
    "#             \"max_bin\": trial.suggest_int(\"max_bin\", 100, 500),\n",
    "        }\n",
    "\n",
    "        kfold = KFold(n_splits=splits_hp, random_state=seed_hp, shuffle=True)\n",
    "        cv = np.zeros(X_train.shape[0])\n",
    "\n",
    "        for n, (train_idx, val_idx) in enumerate(kfold.split(X_train, Y_train)):\n",
    "\n",
    "            x_train, x_val = X_train.iloc[train_idx], X_train.iloc[val_idx]\n",
    "            y_train, y_val = Y_train.iloc[train_idx].values, Y_train.iloc[val_idx].values\n",
    "\n",
    "            lgbmodel = LGBMRegressor(**params_lgb)\n",
    "                                                                                           \n",
    "            lgbmodel.fit(x_train, y_train, eval_set=[(x_val, y_val)], early_stopping_rounds=30, verbose=-1) \n",
    "            cv[val_idx] = lgbmodel.predict(x_val)\n",
    "            \n",
    "        cv = np.where(cv<100, 0, cv)\n",
    "        score_hp.append(mean_squared_error(Y_train, cv))\n",
    "        print(f'Seed{seed_hp} RMSE: {mean_squared_error(Y_train, cv)}')\n",
    "    \n",
    "    np.mean(score_hp)\n",
    "    return np.mean(score_hp)"
   ]
  },
  {
   "cell_type": "code",
   "execution_count": 14,
   "id": "beec7e67",
   "metadata": {
    "scrolled": false
   },
   "outputs": [
    {
     "name": "stderr",
     "output_type": "stream",
     "text": [
      "\u001b[32m[I 2023-11-10 09:46:30,714]\u001b[0m A new study created in memory with name: lgb_parameter_opt\u001b[0m\n"
     ]
    },
    {
     "name": "stdout",
     "output_type": "stream",
     "text": [
      "Seed806 RMSE: 135982.1763116117\n",
      "Seed438 RMSE: 125801.73029701265\n",
      "Seed70 RMSE: 132923.06083913855\n",
      "Seed896 RMSE: 129683.45245585669\n"
     ]
    },
    {
     "name": "stderr",
     "output_type": "stream",
     "text": [
      "\u001b[32m[I 2023-11-10 09:47:35,553]\u001b[0m Trial 0 finished with value: 130948.94555084566 and parameters: {'learning_rate': 0.023688639503640783, 'max_depth': 8, 'reg_alpha': 8.471801418819979, 'reg_lambda': 2.481040974867813, 'num_leaves': 806, 'colsample_bytree': 0.40919616423534183, 'subsample': 0.3406585285177396, 'subsample_freq': 18, 'min_child_samples': 25}. Best is trial 0 with value: 130948.94555084566.\u001b[0m\n"
     ]
    },
    {
     "name": "stdout",
     "output_type": "stream",
     "text": [
      "Seed545 RMSE: 130354.30785060872\n",
      "Seed362 RMSE: 139367.62931725857\n",
      "Seed869 RMSE: 138292.30949991077\n",
      "Seed694 RMSE: 141738.9808950887\n",
      "Seed339 RMSE: 138185.31570194027\n"
     ]
    },
    {
     "name": "stderr",
     "output_type": "stream",
     "text": [
      "\u001b[32m[I 2023-11-10 09:48:11,565]\u001b[0m Trial 1 finished with value: 139719.3986815922 and parameters: {'learning_rate': 0.051059032093947576, 'max_depth': 4, 'reg_alpha': 75.7947995334801, 'reg_lambda': 21.368329072358772, 'num_leaves': 1086, 'colsample_bytree': 0.42727747704497043, 'subsample': 0.4283831568974037, 'subsample_freq': 7, 'min_child_samples': 21}. Best is trial 0 with value: 130948.94555084566.\u001b[0m\n"
     ]
    },
    {
     "name": "stdout",
     "output_type": "stream",
     "text": [
      "Seed795 RMSE: 141012.75799376259\n",
      "Seed896 RMSE: 129892.56592327917\n",
      "Seed15 RMSE: 120881.17092437518\n",
      "Seed894 RMSE: 126953.24968914698\n",
      "Seed282 RMSE: 128552.61174171421\n"
     ]
    },
    {
     "name": "stderr",
     "output_type": "stream",
     "text": [
      "\u001b[32m[I 2023-11-10 09:49:11,505]\u001b[0m Trial 2 finished with value: 126191.43839204847 and parameters: {'learning_rate': 0.027036160666620016, 'max_depth': 5, 'reg_alpha': 2.801635158716261, 'reg_lambda': 0.03613894271216528, 'num_leaves': 1482, 'colsample_bytree': 0.5564532903055841, 'subsample': 0.619248988951925, 'subsample_freq': 16, 'min_child_samples': 8}. Best is trial 2 with value: 126191.43839204847.\u001b[0m\n"
     ]
    },
    {
     "name": "stdout",
     "output_type": "stream",
     "text": [
      "Seed920 RMSE: 124677.5936817268\n",
      "Seed701 RMSE: 110989.51435842902\n",
      "Seed328 RMSE: 108436.49066369762\n",
      "Seed715 RMSE: 112815.78994248649\n",
      "Seed315 RMSE: 110291.09696902345\n"
     ]
    },
    {
     "name": "stderr",
     "output_type": "stream",
     "text": [
      "\u001b[32m[I 2023-11-10 09:51:30,407]\u001b[0m Trial 3 finished with value: 110467.49894121273 and parameters: {'learning_rate': 0.032676417657817626, 'max_depth': 6, 'reg_alpha': 0.015339162591163621, 'reg_lambda': 2.69264691008618, 'num_leaves': 878, 'colsample_bytree': 0.3455361150896956, 'subsample': 0.9642198760773333, 'subsample_freq': 20, 'min_child_samples': 33}. Best is trial 3 with value: 110467.49894121273.\u001b[0m\n"
     ]
    },
    {
     "name": "stdout",
     "output_type": "stream",
     "text": [
      "Seed277 RMSE: 109804.60277242702\n",
      "Seed933 RMSE: 156871.1476520683\n",
      "Seed134 RMSE: 156553.56996760616\n",
      "Seed172 RMSE: 158611.58532658144\n",
      "Seed501 RMSE: 159071.46402030214\n"
     ]
    },
    {
     "name": "stderr",
     "output_type": "stream",
     "text": [
      "\u001b[32m[I 2023-11-10 09:51:55,136]\u001b[0m Trial 4 finished with value: 157882.49093827378 and parameters: {'learning_rate': 0.020165721691808594, 'max_depth': 4, 'reg_alpha': 5.456725485601478, 'reg_lambda': 0.5762487216478605, 'num_leaves': 637, 'colsample_bytree': 0.6466238370778892, 'subsample': 0.32407196478065287, 'subsample_freq': 19, 'min_child_samples': 11}. Best is trial 3 with value: 110467.49894121273.\u001b[0m\n"
     ]
    },
    {
     "name": "stdout",
     "output_type": "stream",
     "text": [
      "Seed7 RMSE: 158304.68772481085\n",
      "Seed956 RMSE: 122330.64887112915\n",
      "Seed644 RMSE: 122291.74060155211\n",
      "Seed413 RMSE: 123199.65640309516\n",
      "Seed520 RMSE: 123140.69124446441\n"
     ]
    },
    {
     "name": "stderr",
     "output_type": "stream",
     "text": [
      "\u001b[32m[I 2023-11-10 09:52:42,387]\u001b[0m Trial 5 finished with value: 123024.21238082596 and parameters: {'learning_rate': 0.04597505784732168, 'max_depth': 5, 'reg_alpha': 1.2030178871154673, 'reg_lambda': 1.5375920235481764, 'num_leaves': 949, 'colsample_bytree': 0.9787092394351908, 'subsample': 0.8425929763527802, 'subsample_freq': 19, 'min_child_samples': 36}. Best is trial 3 with value: 110467.49894121273.\u001b[0m\n"
     ]
    },
    {
     "name": "stdout",
     "output_type": "stream",
     "text": [
      "Seed77 RMSE: 124158.32478388898\n",
      "Seed214 RMSE: 116674.01998997648\n",
      "Seed536 RMSE: 115659.98604971694\n",
      "Seed233 RMSE: 116792.87332718958\n",
      "Seed838 RMSE: 113784.98319779673\n"
     ]
    },
    {
     "name": "stderr",
     "output_type": "stream",
     "text": [
      "\u001b[32m[I 2023-11-10 09:53:57,204]\u001b[0m Trial 6 finished with value: 115505.23861074793 and parameters: {'learning_rate': 0.03961867790406585, 'max_depth': 8, 'reg_alpha': 0.022592797420156956, 'reg_lambda': 0.06080390190296603, 'num_leaves': 255, 'colsample_bytree': 0.527731231534285, 'subsample': 0.5720741027826374, 'subsample_freq': 6, 'min_child_samples': 34}. Best is trial 3 with value: 110467.49894121273.\u001b[0m\n"
     ]
    },
    {
     "name": "stdout",
     "output_type": "stream",
     "text": [
      "Seed297 RMSE: 114614.33048905987\n",
      "Seed57 RMSE: 112167.33426634457\n",
      "Seed12 RMSE: 110217.2400042739\n",
      "Seed324 RMSE: 113368.04686288367\n",
      "Seed25 RMSE: 112670.5213561531\n"
     ]
    },
    {
     "name": "stderr",
     "output_type": "stream",
     "text": [
      "\u001b[32m[I 2023-11-10 09:57:29,117]\u001b[0m Trial 7 finished with value: 112184.33239807215 and parameters: {'learning_rate': 0.02273805573563183, 'max_depth': 5, 'reg_alpha': 1.4817820606039094, 'reg_lambda': 0.0366181922039243, 'num_leaves': 4017, 'colsample_bytree': 0.35218545057583955, 'subsample': 0.9908208556203622, 'subsample_freq': 16, 'min_child_samples': 8}. Best is trial 3 with value: 110467.49894121273.\u001b[0m\n"
     ]
    },
    {
     "name": "stdout",
     "output_type": "stream",
     "text": [
      "Seed512 RMSE: 112498.51950070553\n",
      "Seed303 RMSE: 111130.49220167051\n",
      "Seed363 RMSE: 116012.680590851\n",
      "Seed52 RMSE: 115010.38669161081\n",
      "Seed105 RMSE: 117519.00098038588\n"
     ]
    },
    {
     "name": "stderr",
     "output_type": "stream",
     "text": [
      "\u001b[32m[I 2023-11-10 10:03:27,209]\u001b[0m Trial 8 finished with value: 115159.12150226001 and parameters: {'learning_rate': 0.010127963257331486, 'max_depth': 8, 'reg_alpha': 6.720930050156114, 'reg_lambda': 8.241925264876453, 'num_leaves': 3864, 'colsample_bytree': 0.35183125621386324, 'subsample': 0.5509260099809907, 'subsample_freq': 3, 'min_child_samples': 35}. Best is trial 3 with value: 110467.49894121273.\u001b[0m\n"
     ]
    },
    {
     "name": "stdout",
     "output_type": "stream",
     "text": [
      "Seed428 RMSE: 116123.04704678184\n",
      "Seed684 RMSE: 123710.6097047067\n",
      "Seed414 RMSE: 125743.19948482553\n",
      "Seed953 RMSE: 121177.56573285398\n",
      "Seed293 RMSE: 127625.03849600468\n"
     ]
    },
    {
     "name": "stderr",
     "output_type": "stream",
     "text": [
      "\u001b[32m[I 2023-11-10 10:04:10,084]\u001b[0m Trial 9 finished with value: 124350.63968645032 and parameters: {'learning_rate': 0.042004723167022, 'max_depth': 5, 'reg_alpha': 0.01795698422567764, 'reg_lambda': 0.17535949529764422, 'num_leaves': 1647, 'colsample_bytree': 0.8107243248366449, 'subsample': 0.7462902299486491, 'subsample_freq': 18, 'min_child_samples': 19}. Best is trial 3 with value: 110467.49894121273.\u001b[0m\n"
     ]
    },
    {
     "name": "stdout",
     "output_type": "stream",
     "text": [
      "Seed614 RMSE: 123496.78501386064\n",
      "Seed810 RMSE: 104446.68506126563\n",
      "Seed466 RMSE: 102311.81061499876\n",
      "Seed870 RMSE: 103218.15382911504\n",
      "Seed976 RMSE: 106559.41816690224\n"
     ]
    },
    {
     "name": "stderr",
     "output_type": "stream",
     "text": [
      "\u001b[32m[I 2023-11-10 10:05:59,981]\u001b[0m Trial 10 finished with value: 105083.55132384722 and parameters: {'learning_rate': 0.08813259224734654, 'max_depth': 7, 'reg_alpha': 0.1051466648506654, 'reg_lambda': 53.59957765771799, 'num_leaves': 2611, 'colsample_bytree': 0.7831729514984018, 'subsample': 0.9811585000411431, 'subsample_freq': 12, 'min_child_samples': 27}. Best is trial 10 with value: 105083.55132384722.\u001b[0m\n"
     ]
    },
    {
     "name": "stdout",
     "output_type": "stream",
     "text": [
      "Seed342 RMSE: 108881.68894695445\n",
      "Seed261 RMSE: 105822.39834648608\n",
      "Seed677 RMSE: 107543.09544990119\n",
      "Seed419 RMSE: 108764.54634023718\n",
      "Seed665 RMSE: 105645.50007895901\n"
     ]
    },
    {
     "name": "stderr",
     "output_type": "stream",
     "text": [
      "\u001b[32m[I 2023-11-10 10:07:42,798]\u001b[0m Trial 11 finished with value: 106094.45312517013 and parameters: {'learning_rate': 0.09905863952084676, 'max_depth': 7, 'reg_alpha': 0.0984282995794434, 'reg_lambda': 70.5744035944207, 'num_leaves': 2693, 'colsample_bytree': 0.7918894629305991, 'subsample': 0.9776931953922378, 'subsample_freq': 12, 'min_child_samples': 28}. Best is trial 10 with value: 105083.55132384722.\u001b[0m\n"
     ]
    },
    {
     "name": "stdout",
     "output_type": "stream",
     "text": [
      "Seed667 RMSE: 102696.72541026714\n",
      "Seed708 RMSE: 109118.56530803026\n",
      "Seed541 RMSE: 113230.34566555319\n",
      "Seed63 RMSE: 113325.45201009563\n",
      "Seed874 RMSE: 109831.68786866908\n"
     ]
    },
    {
     "name": "stderr",
     "output_type": "stream",
     "text": [
      "\u001b[32m[I 2023-11-10 10:09:08,317]\u001b[0m Trial 12 finished with value: 111613.28591919616 and parameters: {'learning_rate': 0.09268966212590594, 'max_depth': 7, 'reg_alpha': 0.15278618004189032, 'reg_lambda': 98.86560521091086, 'num_leaves': 2991, 'colsample_bytree': 0.802422187238993, 'subsample': 0.8677645534248755, 'subsample_freq': 11, 'min_child_samples': 27}. Best is trial 10 with value: 105083.55132384722.\u001b[0m\n"
     ]
    },
    {
     "name": "stdout",
     "output_type": "stream",
     "text": [
      "Seed929 RMSE: 112560.37874363262\n",
      "Seed997 RMSE: 110330.64309800704\n",
      "Seed690 RMSE: 112020.69313527674\n",
      "Seed150 RMSE: 112638.06243383439\n",
      "Seed973 RMSE: 113341.52352059446\n"
     ]
    },
    {
     "name": "stderr",
     "output_type": "stream",
     "text": [
      "\u001b[32m[I 2023-11-10 10:10:41,103]\u001b[0m Trial 13 finished with value: 111576.99893042231 and parameters: {'learning_rate': 0.09908696623768996, 'max_depth': 7, 'reg_alpha': 0.1694676201522362, 'reg_lambda': 99.41450502972614, 'num_leaves': 2627, 'colsample_bytree': 0.8020102143044041, 'subsample': 0.8512889080148068, 'subsample_freq': 12, 'min_child_samples': 28}. Best is trial 10 with value: 105083.55132384722.\u001b[0m\n"
     ]
    },
    {
     "name": "stdout",
     "output_type": "stream",
     "text": [
      "Seed773 RMSE: 109554.07246439895\n",
      "Seed197 RMSE: 113368.01934737012\n",
      "Seed740 RMSE: 119571.48601477964\n",
      "Seed17 RMSE: 117717.55883662277\n",
      "Seed28 RMSE: 115562.72172221064\n"
     ]
    },
    {
     "name": "stderr",
     "output_type": "stream",
     "text": [
      "\u001b[32m[I 2023-11-10 10:11:46,614]\u001b[0m Trial 14 finished with value: 116843.82628341073 and parameters: {'learning_rate': 0.06686053249773777, 'max_depth': 7, 'reg_alpha': 0.2049646860453726, 'reg_lambda': 22.60210831274048, 'num_leaves': 4974, 'colsample_bytree': 0.9302723308626759, 'subsample': 0.7465644751106153, 'subsample_freq': 13, 'min_child_samples': 17}. Best is trial 10 with value: 105083.55132384722.\u001b[0m\n"
     ]
    },
    {
     "name": "stdout",
     "output_type": "stream",
     "text": [
      "Seed243 RMSE: 117999.34549607044\n",
      "Seed213 RMSE: 109796.59870995788\n",
      "Seed759 RMSE: 110292.73950372983\n",
      "Seed964 RMSE: 107446.81463417313\n",
      "Seed195 RMSE: 110443.01087214045\n"
     ]
    },
    {
     "name": "stderr",
     "output_type": "stream",
     "text": [
      "\u001b[32m[I 2023-11-10 10:13:12,680]\u001b[0m Trial 15 finished with value: 108644.22309646262 and parameters: {'learning_rate': 0.06991446702656358, 'max_depth': 6, 'reg_alpha': 0.06876418347696565, 'reg_lambda': 25.552085852158772, 'num_leaves': 2069, 'colsample_bytree': 0.7154135123264462, 'subsample': 0.9121650031612786, 'subsample_freq': 8, 'min_child_samples': 40}. Best is trial 10 with value: 105083.55132384722.\u001b[0m\n"
     ]
    },
    {
     "name": "stdout",
     "output_type": "stream",
     "text": [
      "Seed102 RMSE: 105241.95176231182\n",
      "Seed405 RMSE: 112055.2264068679\n",
      "Seed352 RMSE: 115611.33487426286\n",
      "Seed80 RMSE: 115348.63662554731\n",
      "Seed202 RMSE: 111914.75139682797\n"
     ]
    },
    {
     "name": "stderr",
     "output_type": "stream",
     "text": [
      "\u001b[32m[I 2023-11-10 10:15:04,157]\u001b[0m Trial 16 finished with value: 114052.89602284021 and parameters: {'learning_rate': 0.06644718456775066, 'max_depth': 7, 'reg_alpha': 0.35118049643870236, 'reg_lambda': 7.040539354233142, 'num_leaves': 3277, 'colsample_bytree': 0.8783980260314873, 'subsample': 0.7555173191865091, 'subsample_freq': 14, 'min_child_samples': 1}. Best is trial 10 with value: 105083.55132384722.\u001b[0m\n"
     ]
    },
    {
     "name": "stdout",
     "output_type": "stream",
     "text": [
      "Seed165 RMSE: 115334.53081069497\n",
      "Seed706 RMSE: 106091.54076871034\n",
      "Seed876 RMSE: 108680.25958054821\n",
      "Seed136 RMSE: 111392.94054526491\n",
      "Seed331 RMSE: 111941.85572775829\n"
     ]
    },
    {
     "name": "stderr",
     "output_type": "stream",
     "text": [
      "\u001b[32m[I 2023-11-10 10:16:31,389]\u001b[0m Trial 17 finished with value: 109379.15461343716 and parameters: {'learning_rate': 0.08033610886163586, 'max_depth': 6, 'reg_alpha': 0.0522422026531857, 'reg_lambda': 46.15308130327799, 'num_leaves': 2171, 'colsample_bytree': 0.6986988606265796, 'subsample': 0.9317868240189493, 'subsample_freq': 10, 'min_child_samples': 30}. Best is trial 10 with value: 105083.55132384722.\u001b[0m\n"
     ]
    },
    {
     "name": "stdout",
     "output_type": "stream",
     "text": [
      "Seed295 RMSE: 108789.17644490408\n",
      "Seed57 RMSE: 100778.19821735573\n",
      "Seed259 RMSE: 102957.85829464022\n",
      "Seed730 RMSE: 99078.95337966806\n",
      "Seed657 RMSE: 102435.02449390072\n"
     ]
    },
    {
     "name": "stderr",
     "output_type": "stream",
     "text": [
      "\u001b[32m[I 2023-11-10 10:21:54,839]\u001b[0m Trial 18 finished with value: 101593.85596497006 and parameters: {'learning_rate': 0.016017397876891614, 'max_depth': 7, 'reg_alpha': 0.6232943011592377, 'reg_lambda': 0.010367837567056771, 'num_leaves': 3539, 'colsample_bytree': 0.6148622862977107, 'subsample': 0.9953522435734125, 'subsample_freq': 9, 'min_child_samples': 24}. Best is trial 18 with value: 101593.85596497006.\u001b[0m\n"
     ]
    },
    {
     "name": "stdout",
     "output_type": "stream",
     "text": [
      "Seed427 RMSE: 102719.24543928557\n",
      "Seed843 RMSE: 105421.28499662945\n",
      "Seed717 RMSE: 104309.42170819288\n",
      "Seed535 RMSE: 102526.06333845215\n",
      "Seed962 RMSE: 103557.67045506489\n"
     ]
    },
    {
     "name": "stderr",
     "output_type": "stream",
     "text": [
      "\u001b[32m[I 2023-11-10 10:28:25,032]\u001b[0m Trial 19 finished with value: 104237.34770021385 and parameters: {'learning_rate': 0.016137800121662917, 'max_depth': 8, 'reg_alpha': 0.6084101781450121, 'reg_lambda': 0.014886870077699794, 'num_leaves': 3841, 'colsample_bytree': 0.5691766216673199, 'subsample': 0.7999012751980358, 'subsample_freq': 4, 'min_child_samples': 22}. Best is trial 18 with value: 101593.85596497006.\u001b[0m\n"
     ]
    },
    {
     "name": "stdout",
     "output_type": "stream",
     "text": [
      "Seed344 RMSE: 105372.29800272989\n",
      "The best hyperparameters are:\n",
      " {'learning_rate': 0.016017397876891614, 'max_depth': 7, 'reg_alpha': 0.6232943011592377, 'reg_lambda': 0.010367837567056771, 'num_leaves': 3539, 'colsample_bytree': 0.6148622862977107, 'subsample': 0.9953522435734125, 'subsample_freq': 9, 'min_child_samples': 24, 'n_estimators': 10000}\n"
     ]
    }
   ],
   "source": [
    "sampler = TPESampler(seed=basic_seed)\n",
    "lgb_study = optuna.create_study(study_name=\"lgb_parameter_opt\", direction=\"minimize\", sampler=sampler)\n",
    "lgb_study.optimize(lgb_objective, n_trials=num_trial)\n",
    "\n",
    "lgb_best_hyperparams = lgb_study.best_trial.params\n",
    "lgb_base_hyperparams = {'n_estimators':10000}\n",
    "lgb_best_hyperparams.update(lgb_base_hyperparams)\n",
    "\n",
    "# with open('../pkl/lgb_best_hyperparams.pickle', 'wb') as fw:\n",
    "#     pickle.dump(lgb_best_hyperparams, fw)\n",
    "print(\"The best hyperparameters are:\\n\", lgb_best_hyperparams)"
   ]
  },
  {
   "cell_type": "code",
   "execution_count": null,
   "id": "9edfe66a",
   "metadata": {},
   "outputs": [],
   "source": [
    "The best hyperparameters are:\n",
    " {'learning_rate': 0.016017397876891614, 'max_depth': 7, 'reg_alpha': 0.6232943011592377, 'reg_lambda': 0.010367837567056771, 'num_leaves': 3539, 'colsample_bytree': 0.6148622862977107, 'subsample': 0.9953522435734125, 'subsample_freq': 9, 'min_child_samples': 24, 'n_estimators': 10000}"
   ]
  },
  {
   "cell_type": "code",
   "execution_count": 69,
   "id": "514f177c",
   "metadata": {},
   "outputs": [
    {
     "data": {
      "image/png": "[encoded data removed]",
      "text/plain": [
       "<Figure size 1944x288 with 10 Axes>"
      ]
     },
     "metadata": {},
     "output_type": "display_data"
    }
   ],
   "source": [
    "optuna.visualization.matplotlib.plot_slice(lgb_study);"
   ]
  },
  {
   "cell_type": "code",
   "execution_count": 70,
   "id": "61b40d59",
   "metadata": {},
   "outputs": [
    {
     "data": {
      "image/png": "[encoded data removed]",
      "text/plain": [
       "<Figure size 432x288 with 1 Axes>"
      ]
     },
     "metadata": {},
     "output_type": "display_data"
    }
   ],
   "source": [
    "optuna.visualization.matplotlib.plot_param_importances(lgb_study);"
   ]
  },
  {
   "cell_type": "code",
   "execution_count": null,
   "id": "6ca4d4c5",
   "metadata": {},
   "outputs": [],
   "source": []
  },
  {
   "cell_type": "code",
   "execution_count": 52,
   "id": "8f7ae785",
   "metadata": {},
   "outputs": [
    {
     "data": {
      "text/plain": [
       "28"
      ]
     },
     "execution_count": 52,
     "metadata": {},
     "output_type": "execute_result"
    }
   ],
   "source": [
    "len(val_dataset)"
   ]
  },
  {
   "cell_type": "code",
   "execution_count": 44,
   "id": "2741a83c",
   "metadata": {},
   "outputs": [],
   "source": [
    "valid_df = valid_df.replace([np.inf, -np.inf, np.nan, -np.nan], 0)\n",
    "test_df = test_df.replace([np.inf, -np.inf, np.nan, -np.nan], 0)"
   ]
  },
  {
   "cell_type": "code",
   "execution_count": 66,
   "id": "add86b76",
   "metadata": {},
   "outputs": [
    {
     "data": {
      "text/html": [
       "<div>\n",
       "<style scoped>\n",
       "    .dataframe tbody tr th:only-of-type {\n",
       "        vertical-align: middle;\n",
       "    }\n",
       "\n",
       "    .dataframe tbody tr th {\n",
       "        vertical-align: top;\n",
       "    }\n",
       "\n",
       "    .dataframe thead th {\n",
       "        text-align: right;\n",
       "    }\n",
       "</style>\n",
       "<table border=\"1\" class=\"dataframe\">\n",
       "  <thead>\n",
       "    <tr style=\"text-align: right;\">\n",
       "      <th></th>\n",
       "      <th>ID</th>\n",
       "      <th>timestamp</th>\n",
       "      <th>item</th>\n",
       "      <th>corporation</th>\n",
       "      <th>location</th>\n",
       "      <th>supply</th>\n",
       "      <th>price</th>\n",
       "      <th>year</th>\n",
       "      <th>month</th>\n",
       "      <th>day</th>\n",
       "      <th>...</th>\n",
       "      <th>lag_28</th>\n",
       "      <th>rmean_7_7</th>\n",
       "      <th>rmean_14_7</th>\n",
       "      <th>rmean_28_7</th>\n",
       "      <th>rmean_7_14</th>\n",
       "      <th>rmean_14_14</th>\n",
       "      <th>rmean_28_14</th>\n",
       "      <th>rmean_7_28</th>\n",
       "      <th>rmean_14_28</th>\n",
       "      <th>rmean_28_28</th>\n",
       "    </tr>\n",
       "  </thead>\n",
       "  <tbody>\n",
       "    <tr>\n",
       "      <th>0</th>\n",
       "      <td>TG_A_J_20190101</td>\n",
       "      <td>2019-01-01</td>\n",
       "      <td>TG</td>\n",
       "      <td>A</td>\n",
       "      <td>J</td>\n",
       "      <td>0.0</td>\n",
       "      <td>0.0</td>\n",
       "      <td>2019</td>\n",
       "      <td>1</td>\n",
       "      <td>1</td>\n",
       "      <td>...</td>\n",
       "      <td>NaN</td>\n",
       "      <td>NaN</td>\n",
       "      <td>NaN</td>\n",
       "      <td>NaN</td>\n",
       "      <td>NaN</td>\n",
       "      <td>NaN</td>\n",
       "      <td>NaN</td>\n",
       "      <td>NaN</td>\n",
       "      <td>NaN</td>\n",
       "      <td>NaN</td>\n",
       "    </tr>\n",
       "    <tr>\n",
       "      <th>1</th>\n",
       "      <td>TG_A_J_20190102</td>\n",
       "      <td>2019-01-02</td>\n",
       "      <td>TG</td>\n",
       "      <td>A</td>\n",
       "      <td>J</td>\n",
       "      <td>0.0</td>\n",
       "      <td>0.0</td>\n",
       "      <td>2019</td>\n",
       "      <td>1</td>\n",
       "      <td>2</td>\n",
       "      <td>...</td>\n",
       "      <td>NaN</td>\n",
       "      <td>NaN</td>\n",
       "      <td>NaN</td>\n",
       "      <td>NaN</td>\n",
       "      <td>NaN</td>\n",
       "      <td>NaN</td>\n",
       "      <td>NaN</td>\n",
       "      <td>NaN</td>\n",
       "      <td>NaN</td>\n",
       "      <td>NaN</td>\n",
       "    </tr>\n",
       "    <tr>\n",
       "      <th>2</th>\n",
       "      <td>TG_A_J_20190103</td>\n",
       "      <td>2019-01-03</td>\n",
       "      <td>TG</td>\n",
       "      <td>A</td>\n",
       "      <td>J</td>\n",
       "      <td>60601.0</td>\n",
       "      <td>1728.0</td>\n",
       "      <td>2019</td>\n",
       "      <td>1</td>\n",
       "      <td>3</td>\n",
       "      <td>...</td>\n",
       "      <td>NaN</td>\n",
       "      <td>NaN</td>\n",
       "      <td>NaN</td>\n",
       "      <td>NaN</td>\n",
       "      <td>NaN</td>\n",
       "      <td>NaN</td>\n",
       "      <td>NaN</td>\n",
       "      <td>NaN</td>\n",
       "      <td>NaN</td>\n",
       "      <td>NaN</td>\n",
       "    </tr>\n",
       "    <tr>\n",
       "      <th>3</th>\n",
       "      <td>TG_A_J_20190104</td>\n",
       "      <td>2019-01-04</td>\n",
       "      <td>TG</td>\n",
       "      <td>A</td>\n",
       "      <td>J</td>\n",
       "      <td>25000.0</td>\n",
       "      <td>1408.0</td>\n",
       "      <td>2019</td>\n",
       "      <td>1</td>\n",
       "      <td>4</td>\n",
       "      <td>...</td>\n",
       "      <td>NaN</td>\n",
       "      <td>NaN</td>\n",
       "      <td>NaN</td>\n",
       "      <td>NaN</td>\n",
       "      <td>NaN</td>\n",
       "      <td>NaN</td>\n",
       "      <td>NaN</td>\n",
       "      <td>NaN</td>\n",
       "      <td>NaN</td>\n",
       "      <td>NaN</td>\n",
       "    </tr>\n",
       "    <tr>\n",
       "      <th>4</th>\n",
       "      <td>TG_A_J_20190105</td>\n",
       "      <td>2019-01-05</td>\n",
       "      <td>TG</td>\n",
       "      <td>A</td>\n",
       "      <td>J</td>\n",
       "      <td>32352.0</td>\n",
       "      <td>1250.0</td>\n",
       "      <td>2019</td>\n",
       "      <td>1</td>\n",
       "      <td>5</td>\n",
       "      <td>...</td>\n",
       "      <td>NaN</td>\n",
       "      <td>NaN</td>\n",
       "      <td>NaN</td>\n",
       "      <td>NaN</td>\n",
       "      <td>NaN</td>\n",
       "      <td>NaN</td>\n",
       "      <td>NaN</td>\n",
       "      <td>NaN</td>\n",
       "      <td>NaN</td>\n",
       "      <td>NaN</td>\n",
       "    </tr>\n",
       "    <tr>\n",
       "      <th>...</th>\n",
       "      <td>...</td>\n",
       "      <td>...</td>\n",
       "      <td>...</td>\n",
       "      <td>...</td>\n",
       "      <td>...</td>\n",
       "      <td>...</td>\n",
       "      <td>...</td>\n",
       "      <td>...</td>\n",
       "      <td>...</td>\n",
       "      <td>...</td>\n",
       "      <td>...</td>\n",
       "      <td>...</td>\n",
       "      <td>...</td>\n",
       "      <td>...</td>\n",
       "      <td>...</td>\n",
       "      <td>...</td>\n",
       "      <td>...</td>\n",
       "      <td>...</td>\n",
       "      <td>...</td>\n",
       "      <td>...</td>\n",
       "      <td>...</td>\n",
       "    </tr>\n",
       "    <tr>\n",
       "      <th>59392</th>\n",
       "      <td>RD_F_J_20230227</td>\n",
       "      <td>2023-02-27</td>\n",
       "      <td>RD</td>\n",
       "      <td>F</td>\n",
       "      <td>J</td>\n",
       "      <td>452440.0</td>\n",
       "      <td>468.0</td>\n",
       "      <td>2023</td>\n",
       "      <td>2</td>\n",
       "      <td>27</td>\n",
       "      <td>...</td>\n",
       "      <td>604.0</td>\n",
       "      <td>528.142857</td>\n",
       "      <td>372.428571</td>\n",
       "      <td>402.000000</td>\n",
       "      <td>450.285714</td>\n",
       "      <td>433.642857</td>\n",
       "      <td>355.142857</td>\n",
       "      <td>449.357143</td>\n",
       "      <td>394.392857</td>\n",
       "      <td>377.642857</td>\n",
       "    </tr>\n",
       "    <tr>\n",
       "      <th>59393</th>\n",
       "      <td>RD_F_J_20230228</td>\n",
       "      <td>2023-02-28</td>\n",
       "      <td>RD</td>\n",
       "      <td>F</td>\n",
       "      <td>J</td>\n",
       "      <td>421980.0</td>\n",
       "      <td>531.0</td>\n",
       "      <td>2023</td>\n",
       "      <td>2</td>\n",
       "      <td>28</td>\n",
       "      <td>...</td>\n",
       "      <td>719.0</td>\n",
       "      <td>519.285714</td>\n",
       "      <td>390.428571</td>\n",
       "      <td>504.714286</td>\n",
       "      <td>454.857143</td>\n",
       "      <td>420.642857</td>\n",
       "      <td>377.285714</td>\n",
       "      <td>466.321429</td>\n",
       "      <td>398.964286</td>\n",
       "      <td>383.214286</td>\n",
       "    </tr>\n",
       "    <tr>\n",
       "      <th>59394</th>\n",
       "      <td>RD_F_J_20230301</td>\n",
       "      <td>2023-03-01</td>\n",
       "      <td>RD</td>\n",
       "      <td>F</td>\n",
       "      <td>J</td>\n",
       "      <td>382980.0</td>\n",
       "      <td>574.0</td>\n",
       "      <td>2023</td>\n",
       "      <td>3</td>\n",
       "      <td>1</td>\n",
       "      <td>...</td>\n",
       "      <td>646.0</td>\n",
       "      <td>497.857143</td>\n",
       "      <td>416.714286</td>\n",
       "      <td>507.428571</td>\n",
       "      <td>457.285714</td>\n",
       "      <td>416.642857</td>\n",
       "      <td>393.571429</td>\n",
       "      <td>459.642857</td>\n",
       "      <td>405.107143</td>\n",
       "      <td>386.607143</td>\n",
       "    </tr>\n",
       "    <tr>\n",
       "      <th>59395</th>\n",
       "      <td>RD_F_J_20230302</td>\n",
       "      <td>2023-03-02</td>\n",
       "      <td>RD</td>\n",
       "      <td>F</td>\n",
       "      <td>J</td>\n",
       "      <td>477220.0</td>\n",
       "      <td>523.0</td>\n",
       "      <td>2023</td>\n",
       "      <td>3</td>\n",
       "      <td>2</td>\n",
       "      <td>...</td>\n",
       "      <td>620.0</td>\n",
       "      <td>456.142857</td>\n",
       "      <td>464.714286</td>\n",
       "      <td>500.714286</td>\n",
       "      <td>460.428571</td>\n",
       "      <td>421.500000</td>\n",
       "      <td>406.785714</td>\n",
       "      <td>449.964286</td>\n",
       "      <td>414.142857</td>\n",
       "      <td>391.642857</td>\n",
       "    </tr>\n",
       "    <tr>\n",
       "      <th>59396</th>\n",
       "      <td>RD_F_J_20230303</td>\n",
       "      <td>2023-03-03</td>\n",
       "      <td>RD</td>\n",
       "      <td>F</td>\n",
       "      <td>J</td>\n",
       "      <td>427520.0</td>\n",
       "      <td>529.0</td>\n",
       "      <td>2023</td>\n",
       "      <td>3</td>\n",
       "      <td>3</td>\n",
       "      <td>...</td>\n",
       "      <td>562.0</td>\n",
       "      <td>413.142857</td>\n",
       "      <td>507.000000</td>\n",
       "      <td>514.857143</td>\n",
       "      <td>460.071429</td>\n",
       "      <td>430.571429</td>\n",
       "      <td>413.285714</td>\n",
       "      <td>447.285714</td>\n",
       "      <td>421.928571</td>\n",
       "      <td>396.500000</td>\n",
       "    </tr>\n",
       "  </tbody>\n",
       "</table>\n",
       "<p>59397 rows × 29 columns</p>\n",
       "</div>"
      ],
      "text/plain": [
       "                    ID   timestamp item corporation location    supply  \\\n",
       "0      TG_A_J_20190101  2019-01-01   TG           A        J       0.0   \n",
       "1      TG_A_J_20190102  2019-01-02   TG           A        J       0.0   \n",
       "2      TG_A_J_20190103  2019-01-03   TG           A        J   60601.0   \n",
       "3      TG_A_J_20190104  2019-01-04   TG           A        J   25000.0   \n",
       "4      TG_A_J_20190105  2019-01-05   TG           A        J   32352.0   \n",
       "...                ...         ...  ...         ...      ...       ...   \n",
       "59392  RD_F_J_20230227  2023-02-27   RD           F        J  452440.0   \n",
       "59393  RD_F_J_20230228  2023-02-28   RD           F        J  421980.0   \n",
       "59394  RD_F_J_20230301  2023-03-01   RD           F        J  382980.0   \n",
       "59395  RD_F_J_20230302  2023-03-02   RD           F        J  477220.0   \n",
       "59396  RD_F_J_20230303  2023-03-03   RD           F        J  427520.0   \n",
       "\n",
       "        price  year month day  ... lag_28   rmean_7_7  rmean_14_7  rmean_28_7  \\\n",
       "0         0.0  2019     1   1  ...    NaN         NaN         NaN         NaN   \n",
       "1         0.0  2019     1   2  ...    NaN         NaN         NaN         NaN   \n",
       "2      1728.0  2019     1   3  ...    NaN         NaN         NaN         NaN   \n",
       "3      1408.0  2019     1   4  ...    NaN         NaN         NaN         NaN   \n",
       "4      1250.0  2019     1   5  ...    NaN         NaN         NaN         NaN   \n",
       "...       ...   ...   ...  ..  ...    ...         ...         ...         ...   \n",
       "59392   468.0  2023     2  27  ...  604.0  528.142857  372.428571  402.000000   \n",
       "59393   531.0  2023     2  28  ...  719.0  519.285714  390.428571  504.714286   \n",
       "59394   574.0  2023     3   1  ...  646.0  497.857143  416.714286  507.428571   \n",
       "59395   523.0  2023     3   2  ...  620.0  456.142857  464.714286  500.714286   \n",
       "59396   529.0  2023     3   3  ...  562.0  413.142857  507.000000  514.857143   \n",
       "\n",
       "       rmean_7_14  rmean_14_14  rmean_28_14  rmean_7_28  rmean_14_28  \\\n",
       "0             NaN          NaN          NaN         NaN          NaN   \n",
       "1             NaN          NaN          NaN         NaN          NaN   \n",
       "2             NaN          NaN          NaN         NaN          NaN   \n",
       "3             NaN          NaN          NaN         NaN          NaN   \n",
       "4             NaN          NaN          NaN         NaN          NaN   \n",
       "...           ...          ...          ...         ...          ...   \n",
       "59392  450.285714   433.642857   355.142857  449.357143   394.392857   \n",
       "59393  454.857143   420.642857   377.285714  466.321429   398.964286   \n",
       "59394  457.285714   416.642857   393.571429  459.642857   405.107143   \n",
       "59395  460.428571   421.500000   406.785714  449.964286   414.142857   \n",
       "59396  460.071429   430.571429   413.285714  447.285714   421.928571   \n",
       "\n",
       "       rmean_28_28  \n",
       "0              NaN  \n",
       "1              NaN  \n",
       "2              NaN  \n",
       "3              NaN  \n",
       "4              NaN  \n",
       "...            ...  \n",
       "59392   377.642857  \n",
       "59393   383.214286  \n",
       "59394   386.607143  \n",
       "59395   391.642857  \n",
       "59396   396.500000  \n",
       "\n",
       "[59397 rows x 29 columns]"
      ]
     },
     "execution_count": 66,
     "metadata": {},
     "output_type": "execute_result"
    }
   ],
   "source": [
    "valid_df"
   ]
  },
  {
   "cell_type": "code",
   "execution_count": 61,
   "id": "aa2e0950",
   "metadata": {},
   "outputs": [],
   "source": [
    "valid_df_pivot = valid_df.pivot(index=None, columns='d', values='price')"
   ]
  },
  {
   "cell_type": "code",
   "execution_count": 74,
   "id": "fe194157",
   "metadata": {
    "scrolled": false
   },
   "outputs": [
    {
     "data": {
      "text/plain": [
       "36"
      ]
     },
     "execution_count": 74,
     "metadata": {},
     "output_type": "execute_result"
    }
   ],
   "source": [
    "len(valid_df_pivot.d_30.unique())"
   ]
  },
  {
   "cell_type": "code",
   "execution_count": 45,
   "id": "c9067e98",
   "metadata": {},
   "outputs": [],
   "source": [
    "train_dataset = valid_df.iloc[:, -112:-28]\n",
    "val_dataset = valid_df.iloc[:, -28:]\n",
    "train_data = test_df.iloc[:, -28-365:-28]\n",
    "val_data = test_df.iloc[:, -28:]"
   ]
  },
  {
   "cell_type": "code",
   "execution_count": 48,
   "id": "444712ad",
   "metadata": {},
   "outputs": [],
   "source": [
    "period = 30\n",
    "prediction_sma = train_dataset.iloc[:, -period:].copy() \n",
    "for i in range(len(val_dataset.loc[0])): \n",
    "    prediction_sma['F'+str(i+1)] = prediction_sma.iloc[:, -period:].mean(axis=1) \n",
    "prediction_sma = prediction_sma[['F'+str(i+1) for i in range(len(val_dataset.loc[0]))]] \n",
    "r = evaluator.score(prediction_sma.values)\n",
    "print('wrmsse:', wrmsse_sma)"
   ]
  },
  {
   "cell_type": "code",
   "execution_count": null,
   "id": "d24333eb",
   "metadata": {},
   "outputs": [],
   "source": [
    "period = 30\n",
    "test_pred_y_sma = train_data.iloc[:, -period:].copy() \n",
    "for i in range(len(val_data.loc[0])): \n",
    "    test_pred_y_sma['F'+str(i+1)] = test_pred_y_sma.iloc[:, -period:].mean(axis=1) \n",
    "test_pred_y_sma = test_pred_y_sma[['F'+str(i+1) for i in range(len(val_data.loc[0]))]].values"
   ]
  }
 ],
 "metadata": {
  "kernelspec": {
   "display_name": "Python 3 (ipykernel)",
   "language": "python",
   "name": "python3"
  },
  "language_info": {
   "codemirror_mode": {
    "name": "ipython",
    "version": 3
   },
   "file_extension": ".py",
   "mimetype": "text/x-python",
   "name": "python",
   "nbconvert_exporter": "python",
   "pygments_lexer": "ipython3",
   "version": "3.9.7"
  }
 },
 "nbformat": 4,
 "nbformat_minor": 5
}
